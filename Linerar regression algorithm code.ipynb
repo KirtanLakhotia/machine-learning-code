{
 "cells": [
  {
   "cell_type": "code",
   "execution_count": 2,
   "metadata": {},
   "outputs": [],
   "source": [
    "from sklearn.model_selection import train_test_split\n",
    "import numpy as np\n",
    "import matplotlib.pyplot as plt"
   ]
  },
  {
   "cell_type": "code",
   "execution_count": 3,
   "metadata": {},
   "outputs": [],
   "source": [
    "def fit (x,y):\n",
    "    m = ((x*y).mean()-(x.mean()*y.mean()))/((x*x).mean()-(x.mean()**2))\n",
    "    c=y.mean()-(m*x.mean())\n",
    "    return m,c  "
   ]
  },
  {
   "cell_type": "code",
   "execution_count": 4,
   "metadata": {},
   "outputs": [],
   "source": [
    "def pred (x,m,c):\n",
    "    y_pred=m*x+c\n",
    "    return y_pred\n"
   ]
  },
  {
   "cell_type": "code",
   "execution_count": 5,
   "metadata": {},
   "outputs": [],
   "source": [
    "# cofficient of determination\n",
    "def cd (y_pred,y_test):\n",
    "    u = ((y_test-y_pred)**2).sum()\n",
    "    v= ((y_test-y_test.mean())**2).sum()\n",
    "    return (1-u/v)"
   ]
  },
  {
   "cell_type": "code",
   "execution_count": 6,
   "metadata": {},
   "outputs": [],
   "source": [
    "# loss function\n",
    "def loss(x,y,m,c):\n",
    "     return ((y-m*x-c)**2).mean()"
   ]
  },
  {
   "cell_type": "code",
   "execution_count": 17,
   "metadata": {},
   "outputs": [
    {
     "data": {
      "image/png": "[encoded data removed]",
      "text/plain": [
       "<Figure size 432x288 with 1 Axes>"
      ]
     },
     "metadata": {
      "needs_background": "light"
     },
     "output_type": "display_data"
    },
    {
     "name": "stdout",
     "output_type": "stream",
     "text": [
      "train score 0.5865506692221174\n",
      "loss 124.17539258727093\n",
      "test score 0.621455246748017\n",
      "sklern in built algo 0.6214552467480157\n"
     ]
    }
   ],
   "source": [
    "data=np.loadtxt(\"Desktop\\linerar regression dummy data\\data.csv\",delimiter=\",\")\n",
    "x=data[:,0]\n",
    "y=data[:,1]\n",
    "x_train,x_test,y_train,y_test=train_test_split(x,y)\n",
    "m , c = fit(x_train,y_train)\n",
    "y_pred=pred(x_test,m,c)\n",
    "y_pred_train=pred(x_train,m,c)\n",
    "plt.scatter(y_pred,y_test)\n",
    "plt.show()\n",
    "\n",
    "print(\"train score\",cd(y_pred_train,y_train))\n",
    "print(\"loss\",loss(x_train,y_train,m,c))\n",
    "\n",
    "print(\"test score\",cd(y_pred,y_test))\n",
    "\n",
    "\n",
    "# applying all these by sklearn module\n",
    "from sklearn.linear_model import LinearRegression\n",
    "alg1=LinearRegression()\n",
    "x_train=x_train.reshape(-1,1)\n",
    "y_train=y_train.reshape(-1,1)\n",
    "x_test=x_test.reshape(-1,1)\n",
    "y_test=y_test.reshape(-1,1)\n",
    "alg1.fit(x_train,y_train)\n",
    "y_pred_sklearn=alg1.predict(x_test)\n",
    "print(\"sklern in built algo\",alg1.score(x_test,y_test))"
   ]
  },
  {
   "cell_type": "code",
   "execution_count": null,
   "metadata": {},
   "outputs": [],
   "source": [
    "\n"
   ]
  }
 ],
 "metadata": {
  "kernelspec": {
   "display_name": "Python 3",
   "language": "python",
   "name": "python3"
  },
  "language_info": {
   "codemirror_mode": {
    "name": "ipython",
    "version": 3
   },
   "file_extension": ".py",
   "mimetype": "text/x-python",
   "name": "python",
   "nbconvert_exporter": "python",
   "pygments_lexer": "ipython3",
   "version": "3.7.4"
  }
 },
 "nbformat": 4,
 "nbformat_minor": 2
}
