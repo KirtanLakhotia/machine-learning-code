{
 "cells": [
  {
   "cell_type": "code",
   "execution_count": 1,
   "id": "fdb2c966",
   "metadata": {},
   "outputs": [],
   "source": [
    "import pandas as pd\n",
    "import re\n",
    "import nltk\n",
    "from nltk.corpus import stopwords\n",
    "import numpy as np\n",
    "from sklearn.model_selection import train_test_split\n",
    "from keras.preprocessing.text import one_hot, Tokenizer\n",
    "from keras.preprocessing.sequence import pad_sequences\n",
    "from keras.models import Sequential\n",
    "from keras.layers import Embedding,Conv1D,GlobalMaxPooling1D,MaxPooling1D,Dense,AdditiveAttention,MultiHeadAttention,Bidirectional,LSTM,Flatten,Cropping3D,UpSampling3D,Attention,Dropout"
   ]
  },
  {
   "cell_type": "code",
   "execution_count": 2,
   "id": "c922b019",
   "metadata": {},
   "outputs": [],
   "source": [
    "# importing data\n",
    "data=pd.read_csv('stock_data.csv')"
   ]
  },
  {
   "cell_type": "code",
   "execution_count": 3,
   "id": "40bc9eaf",
   "metadata": {},
   "outputs": [
    {
     "name": "stdout",
     "output_type": "stream",
     "text": [
      "0\n",
      "0\n"
     ]
    },
    {
     "data": {
      "text/html": [
       "<div>\n",
       "<style scoped>\n",
       "    .dataframe tbody tr th:only-of-type {\n",
       "        vertical-align: middle;\n",
       "    }\n",
       "\n",
       "    .dataframe tbody tr th {\n",
       "        vertical-align: top;\n",
       "    }\n",
       "\n",
       "    .dataframe thead th {\n",
       "        text-align: right;\n",
       "    }\n",
       "</style>\n",
       "<table border=\"1\" class=\"dataframe\">\n",
       "  <thead>\n",
       "    <tr style=\"text-align: right;\">\n",
       "      <th></th>\n",
       "      <th>Text</th>\n",
       "      <th>Sentiment</th>\n",
       "    </tr>\n",
       "  </thead>\n",
       "  <tbody>\n",
       "    <tr>\n",
       "      <th>0</th>\n",
       "      <td>Kickers on my watchlist XIDE TIT SOQ PNK CPW B...</td>\n",
       "      <td>1</td>\n",
       "    </tr>\n",
       "    <tr>\n",
       "      <th>1</th>\n",
       "      <td>user: AAP MOVIE. 55% return for the FEA/GEED i...</td>\n",
       "      <td>1</td>\n",
       "    </tr>\n",
       "    <tr>\n",
       "      <th>2</th>\n",
       "      <td>user I'd be afraid to short AMZN - they are lo...</td>\n",
       "      <td>1</td>\n",
       "    </tr>\n",
       "    <tr>\n",
       "      <th>3</th>\n",
       "      <td>MNTA Over 12.00</td>\n",
       "      <td>1</td>\n",
       "    </tr>\n",
       "    <tr>\n",
       "      <th>4</th>\n",
       "      <td>OI  Over 21.37</td>\n",
       "      <td>1</td>\n",
       "    </tr>\n",
       "    <tr>\n",
       "      <th>...</th>\n",
       "      <td>...</td>\n",
       "      <td>...</td>\n",
       "    </tr>\n",
       "    <tr>\n",
       "      <th>5786</th>\n",
       "      <td>Industry body CII said #discoms are likely to ...</td>\n",
       "      <td>-1</td>\n",
       "    </tr>\n",
       "    <tr>\n",
       "      <th>5787</th>\n",
       "      <td>#Gold prices slip below Rs 46,000 as #investor...</td>\n",
       "      <td>-1</td>\n",
       "    </tr>\n",
       "    <tr>\n",
       "      <th>5788</th>\n",
       "      <td>Workers at Bajaj Auto have agreed to a 10% wag...</td>\n",
       "      <td>1</td>\n",
       "    </tr>\n",
       "    <tr>\n",
       "      <th>5789</th>\n",
       "      <td>#Sharemarket LIVE: Sensex off day’s high, up 6...</td>\n",
       "      <td>1</td>\n",
       "    </tr>\n",
       "    <tr>\n",
       "      <th>5790</th>\n",
       "      <td>#Sensex, #Nifty climb off day's highs, still u...</td>\n",
       "      <td>1</td>\n",
       "    </tr>\n",
       "  </tbody>\n",
       "</table>\n",
       "<p>5791 rows × 2 columns</p>\n",
       "</div>"
      ],
      "text/plain": [
       "                                                   Text  Sentiment\n",
       "0     Kickers on my watchlist XIDE TIT SOQ PNK CPW B...          1\n",
       "1     user: AAP MOVIE. 55% return for the FEA/GEED i...          1\n",
       "2     user I'd be afraid to short AMZN - they are lo...          1\n",
       "3                                     MNTA Over 12.00            1\n",
       "4                                      OI  Over 21.37            1\n",
       "...                                                 ...        ...\n",
       "5786  Industry body CII said #discoms are likely to ...         -1\n",
       "5787  #Gold prices slip below Rs 46,000 as #investor...         -1\n",
       "5788  Workers at Bajaj Auto have agreed to a 10% wag...          1\n",
       "5789  #Sharemarket LIVE: Sensex off day’s high, up 6...          1\n",
       "5790  #Sensex, #Nifty climb off day's highs, still u...          1\n",
       "\n",
       "[5791 rows x 2 columns]"
      ]
     },
     "execution_count": 3,
     "metadata": {},
     "output_type": "execute_result"
    }
   ],
   "source": [
    "#checking for null data\n",
    "print(data['Text'].isnull().sum())\n",
    "print(data['Sentiment'].isnull().sum())\n",
    "data"
   ]
  },
  {
   "cell_type": "code",
   "execution_count": 4,
   "id": "11043667",
   "metadata": {},
   "outputs": [
    {
     "data": {
      "text/plain": [
       "False"
      ]
     },
     "execution_count": 4,
     "metadata": {},
     "output_type": "execute_result"
    }
   ],
   "source": [
    "data.isnull().values.any()"
   ]
  },
  {
   "cell_type": "code",
   "execution_count": 5,
   "id": "1326c9b8",
   "metadata": {},
   "outputs": [
    {
     "data": {
      "text/plain": [
       "'user: AAP MOVIE. 55% return for the FEA/GEED indicator just 15 trades for the year.  AWESOME.  '"
      ]
     },
     "execution_count": 5,
     "metadata": {},
     "output_type": "execute_result"
    }
   ],
   "source": [
    "data['Text'][1]"
   ]
  },
  {
   "cell_type": "code",
   "execution_count": 6,
   "id": "e0e6d480",
   "metadata": {},
   "outputs": [],
   "source": [
    "TAG_RE = re.compile(r'<[^>]+>')\n",
    "\n",
    "def remove_tags(text):\n",
    "    '''Removes HTML tags: replaces anything between opening and closing <> with empty space'''\n",
    "\n",
    "    return TAG_RE.sub('', text)"
   ]
  },
  {
   "cell_type": "code",
   "execution_count": 7,
   "id": "d1112f46",
   "metadata": {},
   "outputs": [
    {
     "name": "stderr",
     "output_type": "stream",
     "text": [
      "[nltk_data] Downloading package stopwords to\n",
      "[nltk_data]     C:\\Users\\lenovo\\AppData\\Roaming\\nltk_data...\n",
      "[nltk_data]   Package stopwords is already up-to-date!\n"
     ]
    },
    {
     "data": {
      "text/plain": [
       "True"
      ]
     },
     "execution_count": 7,
     "metadata": {},
     "output_type": "execute_result"
    }
   ],
   "source": [
    "import nltk\n",
    "nltk.download('stopwords')"
   ]
  },
  {
   "cell_type": "code",
   "execution_count": 8,
   "id": "fbc958bd",
   "metadata": {},
   "outputs": [],
   "source": [
    "def preprocess_text(sen):\n",
    "    '''Cleans text data up, leaving only 2 or more char long non-stepwords composed of A-Z & a-z only\n",
    "    in lowercase'''\n",
    "    \n",
    "    sentence = sen.lower()\n",
    "\n",
    "    # Remove html tags\n",
    "    sentence = remove_tags(sentence)\n",
    "\n",
    "    # Remove punctuations and numbers\n",
    "    sentence = re.sub('[^a-zA-Z]', ' ', sentence)\n",
    "\n",
    "    # Single character removal\n",
    "    sentence = re.sub(r\"\\s+[a-zA-Z]\\s+\", ' ', sentence)  # When we remove apostrophe from the word \"Mark's\", the apostrophe is replaced by an empty space. Hence, we are left with single character \"s\" that we are removing here.\n",
    "\n",
    "    # Remove multiple spaces\n",
    "    sentence = re.sub(r'\\s+', ' ', sentence)  # Next, we remove all the single characters and replace it by a space which creates multiple spaces in our text. Finally, we remove the multiple spaces from our text as well.\n",
    "\n",
    "    # Remove Stopwords\n",
    "    pattern = re.compile(r'\\b(' + r'|'.join(stopwords.words('english')) + r')\\b\\s*')\n",
    "    sentence = pattern.sub('', sentence)\n",
    "\n",
    "    return sentence"
   ]
  },
  {
   "cell_type": "code",
   "execution_count": 9,
   "id": "18757492",
   "metadata": {},
   "outputs": [],
   "source": [
    "X = []\n",
    "sentences = list(data['Text'])\n",
    "for sen in sentences:\n",
    "    X.append(preprocess_text(sen))"
   ]
  },
  {
   "cell_type": "code",
   "execution_count": 10,
   "id": "327effdf",
   "metadata": {},
   "outputs": [
    {
     "name": "stdout",
     "output_type": "stream",
     "text": [
      "kickers watchlist xide tit soq pnk cpw bpz aj trade method method see prev posts\n",
      "Kickers on my watchlist XIDE TIT SOQ PNK CPW BPZ AJ  trade method 1 or method 2, see prev posts\n"
     ]
    }
   ],
   "source": [
    "print(X[0])\n",
    "print(data['Text'][0])"
   ]
  },
  {
   "cell_type": "code",
   "execution_count": 11,
   "id": "49a351ce",
   "metadata": {},
   "outputs": [],
   "source": [
    "data['Sentiment']=data['Sentiment'].map({-1:0,1:1})"
   ]
  },
  {
   "cell_type": "code",
   "execution_count": 12,
   "id": "09b58e4d",
   "metadata": {},
   "outputs": [],
   "source": [
    "# x=np.array(X)\n",
    "y=np.array(data['Sentiment'])\n",
    "x=X"
   ]
  },
  {
   "cell_type": "code",
   "execution_count": 13,
   "id": "f826a37b",
   "metadata": {},
   "outputs": [
    {
     "data": {
      "text/plain": [
       "((4343,), (1448,))"
      ]
     },
     "execution_count": 13,
     "metadata": {},
     "output_type": "execute_result"
    }
   ],
   "source": [
    "x_train,x_test,y_train,y_test=train_test_split(x,y)\n",
    "y_train.shape,y_test.shape"
   ]
  },
  {
   "cell_type": "code",
   "execution_count": 14,
   "id": "f8f1eb18",
   "metadata": {},
   "outputs": [],
   "source": [
    "word_tokenizer = Tokenizer()\n",
    "word_tokenizer.fit_on_texts(x_train)\n",
    "\n",
    "x_train = word_tokenizer.texts_to_sequences(x_train)\n",
    "x_test = word_tokenizer.texts_to_sequences(x_test)"
   ]
  },
  {
   "cell_type": "code",
   "execution_count": 15,
   "id": "210e4d5c",
   "metadata": {},
   "outputs": [
    {
     "data": {
      "text/plain": [
       "7775"
      ]
     },
     "execution_count": 15,
     "metadata": {},
     "output_type": "execute_result"
    }
   ],
   "source": [
    "vocab_length = len(word_tokenizer.word_index) +1\n",
    "\n",
    "vocab_length\n"
   ]
  },
  {
   "cell_type": "code",
   "execution_count": 16,
   "id": "810723cd",
   "metadata": {},
   "outputs": [],
   "source": [
    "maxlen = 25\n",
    "\n",
    "x_train = pad_sequences(x_train, padding='post', maxlen=maxlen)\n",
    "x_test = pad_sequences(x_test, padding='post', maxlen=maxlen)"
   ]
  },
  {
   "cell_type": "code",
   "execution_count": 17,
   "id": "6504608e",
   "metadata": {},
   "outputs": [
    {
     "data": {
      "text/plain": [
       "((4343, 25), (4343,))"
      ]
     },
     "execution_count": 17,
     "metadata": {},
     "output_type": "execute_result"
    }
   ],
   "source": [
    "x_train.shape,y_train.shape"
   ]
  },
  {
   "cell_type": "code",
   "execution_count": 18,
   "id": "c33a38cd",
   "metadata": {},
   "outputs": [],
   "source": [
    "from numpy import asarray\n",
    "from numpy import zeros\n",
    "\n",
    "embeddings_dictionary = dict()\n",
    "glove_file = open('a2_glove.6B.100d.txt', encoding=\"utf8\")\n",
    "\n",
    "for line in glove_file:\n",
    "    records = line.split()\n",
    "    word = records[0]\n",
    "    vector_dimensions = asarray(records[1:], dtype='float32')\n",
    "    embeddings_dictionary [word] = vector_dimensions\n",
    "glove_file.close()"
   ]
  },
  {
   "cell_type": "code",
   "execution_count": 19,
   "id": "a3bd409e",
   "metadata": {},
   "outputs": [],
   "source": [
    "embedding_matrix = zeros((vocab_length, 100))\n",
    "for word, index in word_tokenizer.word_index.items():\n",
    "    embedding_vector = embeddings_dictionary.get(word)\n",
    "    if embedding_vector is not None:\n",
    "        embedding_matrix[index] = embedding_vector"
   ]
  },
  {
   "cell_type": "code",
   "execution_count": 20,
   "id": "eef6efd3",
   "metadata": {},
   "outputs": [
    {
     "data": {
      "text/plain": [
       "(7775, 100)"
      ]
     },
     "execution_count": 20,
     "metadata": {},
     "output_type": "execute_result"
    }
   ],
   "source": [
    "embedding_matrix.shape\n"
   ]
  },
  {
   "cell_type": "code",
   "execution_count": 21,
   "id": "e56b9f9d",
   "metadata": {},
   "outputs": [],
   "source": [
    "model=Sequential()"
   ]
  },
  {
   "cell_type": "code",
   "execution_count": 22,
   "id": "549bf450",
   "metadata": {},
   "outputs": [],
   "source": [
    "model.add(Embedding(vocab_length,100,weights=[embedding_matrix], input_length=maxlen))\n",
    "model.add(Conv1D(128,5,padding =\"same\",activation=\"relu\"))\n",
    "model.add(MaxPooling1D())\n",
    "model.add(Dropout(0.2))\n",
    "model.add(Conv1D(256,5,padding=\"same\",activation=\"relu\"))\n",
    "#model.add(MultiHeadAttention(key_dim=128, value_dim=128, num_heads=1,value=10))\n",
    "model.add(MaxPooling1D())\n",
    "model.add(Dropout(0.2))\n",
    "#model.add(Bidirectional(LSTM(20)))\n",
    "model.add(Bidirectional(LSTM(40)))\n",
    "#model.add(Flatten())\n",
    "# model.add(Cropping3D(cropping=((1, 1), (1, 1), (1, 1))))\n",
    "# model.add(UpSampling3D(size=(2, 2, 2)))\n",
    "# model.add(AdditiveAttention()) \n",
    "#model.add(MultiHeadAttention(num_heads=2, key_dim=128, value=128))\n",
    "# model.add(Flatten())\n",
    "\n",
    "model.add(Dense(units=1,activation=\"sigmoid\"))"
   ]
  },
  {
   "cell_type": "code",
   "execution_count": 23,
   "id": "644f902f",
   "metadata": {},
   "outputs": [
    {
     "name": "stdout",
     "output_type": "stream",
     "text": [
      "Model: \"sequential\"\n",
      "_________________________________________________________________\n",
      " Layer (type)                Output Shape              Param #   \n",
      "=================================================================\n",
      " embedding (Embedding)       (None, 25, 100)           777500    \n",
      "                                                                 \n",
      " conv1d (Conv1D)             (None, 25, 128)           64128     \n",
      "                                                                 \n",
      " max_pooling1d (MaxPooling1  (None, 12, 128)           0         \n",
      " D)                                                              \n",
      "                                                                 \n",
      " dropout (Dropout)           (None, 12, 128)           0         \n",
      "                                                                 \n",
      " conv1d_1 (Conv1D)           (None, 12, 256)           164096    \n",
      "                                                                 \n",
      " max_pooling1d_1 (MaxPoolin  (None, 6, 256)            0         \n",
      " g1D)                                                            \n",
      "                                                                 \n",
      " dropout_1 (Dropout)         (None, 6, 256)            0         \n",
      "                                                                 \n",
      " bidirectional (Bidirection  (None, 80)                95040     \n",
      " al)                                                             \n",
      "                                                                 \n",
      " dense (Dense)               (None, 1)                 81        \n",
      "                                                                 \n",
      "=================================================================\n",
      "Total params: 1100845 (4.20 MB)\n",
      "Trainable params: 1100845 (4.20 MB)\n",
      "Non-trainable params: 0 (0.00 Byte)\n",
      "_________________________________________________________________\n"
     ]
    }
   ],
   "source": [
    "model.summary()"
   ]
  },
  {
   "cell_type": "code",
   "execution_count": 24,
   "id": "65e0f75e",
   "metadata": {},
   "outputs": [],
   "source": [
    "model.compile(optimizer='adam', loss='binary_crossentropy', metrics=['accuracy'])\n"
   ]
  },
  {
   "cell_type": "code",
   "execution_count": 25,
   "id": "9a9196fc",
   "metadata": {},
   "outputs": [
    {
     "name": "stdout",
     "output_type": "stream",
     "text": [
      "Epoch 1/10\n",
      "136/136 [==============================] - 11s 53ms/step - loss: 0.6237 - accuracy: 0.6624 - val_loss: 0.5261 - val_accuracy: 0.7327\n",
      "Epoch 2/10\n",
      "136/136 [==============================] - 7s 52ms/step - loss: 0.4427 - accuracy: 0.7999 - val_loss: 0.4862 - val_accuracy: 0.7742\n",
      "Epoch 3/10\n",
      "136/136 [==============================] - 6s 43ms/step - loss: 0.2686 - accuracy: 0.8968 - val_loss: 0.6055 - val_accuracy: 0.7610\n",
      "Epoch 4/10\n",
      "136/136 [==============================] - 5s 38ms/step - loss: 0.1456 - accuracy: 0.9510 - val_loss: 0.6380 - val_accuracy: 0.7624\n",
      "Epoch 5/10\n",
      "136/136 [==============================] - 5s 35ms/step - loss: 0.0639 - accuracy: 0.9800 - val_loss: 0.8170 - val_accuracy: 0.7535\n",
      "Epoch 6/10\n",
      "136/136 [==============================] - 6s 42ms/step - loss: 0.0513 - accuracy: 0.9837 - val_loss: 0.8496 - val_accuracy: 0.7645\n",
      "Epoch 7/10\n",
      "136/136 [==============================] - 5s 38ms/step - loss: 0.0360 - accuracy: 0.9887 - val_loss: 0.8867 - val_accuracy: 0.7762\n",
      "Epoch 8/10\n",
      "136/136 [==============================] - 5s 38ms/step - loss: 0.0285 - accuracy: 0.9910 - val_loss: 0.9540 - val_accuracy: 0.7797\n",
      "Epoch 9/10\n",
      "136/136 [==============================] - 5s 35ms/step - loss: 0.0260 - accuracy: 0.9913 - val_loss: 0.9366 - val_accuracy: 0.7728\n",
      "Epoch 10/10\n",
      "136/136 [==============================] - 5s 39ms/step - loss: 0.0101 - accuracy: 0.9979 - val_loss: 1.1718 - val_accuracy: 0.7735\n"
     ]
    },
    {
     "data": {
      "text/plain": [
       "<keras.src.callbacks.History at 0x25fc414c850>"
      ]
     },
     "execution_count": 25,
     "metadata": {},
     "output_type": "execute_result"
    }
   ],
   "source": [
    "model.fit(x_train,y_train,epochs=10,batch_size=32,validation_data=(x_test,y_test))"
   ]
  },
  {
   "cell_type": "code",
   "execution_count": 26,
   "id": "07fc850a",
   "metadata": {},
   "outputs": [
    {
     "name": "stdout",
     "output_type": "stream",
     "text": [
      "46/46 [==============================] - 2s 19ms/step\n",
      "46/46 [==============================] - 1s 12ms/step - loss: 1.1718 - accuracy: 0.7735\n"
     ]
    },
    {
     "data": {
      "text/plain": [
       "[1.171769142150879, 0.7734806537628174]"
      ]
     },
     "execution_count": 26,
     "metadata": {},
     "output_type": "execute_result"
    }
   ],
   "source": [
    "# prediction=model.predict(x_test)\n",
    "y_test_pred=model.predict(x_test)\n",
    "model.evaluate(x_test,y_test)\n",
    "\n"
   ]
  },
  {
   "cell_type": "code",
   "execution_count": 27,
   "id": "8b9526bf",
   "metadata": {},
   "outputs": [
    {
     "name": "stdout",
     "output_type": "stream",
     "text": [
      "[[0]\n",
      " [1]\n",
      " [1]\n",
      " ...\n",
      " [0]\n",
      " [1]\n",
      " [1]]\n",
      "[[3.1331790e-04]\n",
      " [9.6300381e-01]\n",
      " [9.2777377e-01]\n",
      " ...\n",
      " [2.6509830e-01]\n",
      " [9.9988484e-01]\n",
      " [9.9957901e-01]]\n"
     ]
    }
   ],
   "source": [
    "y_test_pred\n",
    "threshold = 0.5\n",
    "\n",
    "# Convert the data to 1 and 0 using the threshold\n",
    "binary_data = (y_test_pred >= threshold).astype(int)\n",
    "\n",
    "print(binary_data)\n",
    "print(y_test_pred)\n",
    "y_test_pred=binary_data"
   ]
  },
  {
   "cell_type": "code",
   "execution_count": 28,
   "id": "ad0af643",
   "metadata": {},
   "outputs": [
    {
     "name": "stdout",
     "output_type": "stream",
     "text": [
      "              precision    recall  f1-score   support\n",
      "\n",
      "           0       0.67      0.70      0.69       515\n",
      "           1       0.83      0.81      0.82       933\n",
      "\n",
      "    accuracy                           0.77      1448\n",
      "   macro avg       0.75      0.76      0.76      1448\n",
      "weighted avg       0.78      0.77      0.77      1448\n",
      "\n"
     ]
    }
   ],
   "source": [
    "from sklearn.metrics import classification_report\n",
    "print(classification_report(y_test,y_test_pred))\n"
   ]
  }
 ],
 "metadata": {
  "kernelspec": {
   "display_name": "Python 3 (ipykernel)",
   "language": "python",
   "name": "python3"
  },
  "language_info": {
   "codemirror_mode": {
    "name": "ipython",
    "version": 3
   },
   "file_extension": ".py",
   "mimetype": "text/x-python",
   "name": "python",
   "nbconvert_exporter": "python",
   "pygments_lexer": "ipython3",
   "version": "3.10.9"
  }
 },
 "nbformat": 4,
 "nbformat_minor": 5
}
