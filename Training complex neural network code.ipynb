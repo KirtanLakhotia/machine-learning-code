{
 "cells": [
  {
   "cell_type": "code",
   "execution_count": 1,
   "id": "c66a213d",
   "metadata": {},
   "outputs": [],
   "source": [
    "import numpy as np"
   ]
  },
  {
   "cell_type": "code",
   "execution_count": 9,
   "id": "6827239c",
   "metadata": {},
   "outputs": [],
   "source": [
    "x=np.array([[0,0],[1,0],[0,1],[1,1]])\n",
    "y=np.array([[0],[1],[1],[0]])"
   ]
  },
  {
   "cell_type": "code",
   "execution_count": 10,
   "id": "6c1a337f",
   "metadata": {},
   "outputs": [],
   "source": [
    "def sig(z):\n",
    "    return 1/1+np.exp(-z)"
   ]
  },
  {
   "cell_type": "code",
   "execution_count": 4,
   "id": "e98b5b7b",
   "metadata": {},
   "outputs": [],
   "source": [
    "def derivative_sig(z):\n",
    "    return sig(z)*(1-sig(z))"
   ]
  },
  {
   "cell_type": "code",
   "execution_count": 13,
   "id": "7961bf17",
   "metadata": {},
   "outputs": [],
   "source": [
    "wh=2*np.random.random((2,2))-1\n",
    "bh=2*np.random.random((1,2))-1\n",
    "wo=2*np.random.random((2,1))-1\n",
    "bo=2*np.random.random((1,1))-1\n",
    "lr=0.0001"
   ]
  },
  {
   "cell_type": "code",
   "execution_count": 14,
   "id": "b92b649a",
   "metadata": {},
   "outputs": [
    {
     "name": "stdout",
     "output_type": "stream",
     "text": [
      "[[1.00003183]\n",
      " [1.0000008 ]\n",
      " [1.00000001]\n",
      " [1.        ]]\n"
     ]
    }
   ],
   "source": [
    " for iter in range(1000):\n",
    "    output0 =x\n",
    "\n",
    "\n",
    "    input_hidden=np.dot(output0,wh)+bh\n",
    "    output_hidden=sig(input_hidden)\n",
    "\n",
    "    input_for_output_layer=np.dot(output_hidden,wo)+bo\n",
    "    output=sig(input_for_output_layer)\n",
    "\n",
    "    first_term_output_layer=output-y\n",
    "    second_term_output_layer=derivative_sig(input_for_output_layer)\n",
    "    first_two_output_layer=first_term_output_layer * second_term_output_layer\n",
    "\n",
    "    first_term_hidden_layer=first_two_output_layer*(wo.T)\n",
    "    second_term_hidden_layer=derivative_sig(input_hidden)\n",
    "    first_two_hidden_layer=first_term_hidden_layer * second_term_hidden_layer\n",
    "\n",
    "    change_output=np.dot(output_hidden.T,first_two_output_layer)\n",
    "    change_output_bias=np.sum(first_two_output_layer,keepdims=True,axis=0)\n",
    "\n",
    "    change_hidden=np.dot(output0.T,first_two_hidden_layer)\n",
    "    change_hidden_bias=np.sum(first_two_hidden_layer,axis=0,keepdims=True)\n",
    "\n",
    "    wo=wo-lr*change_output\n",
    "    bo=bo-lr*change_output_bias\n",
    "    wh=wh-lr*change_hidden\n",
    "    bh=bh-lr*change_hidden_bias\n",
    "\n",
    "output0 =x\n",
    "\n",
    "input_hidden=np.dot(output0,wh)+bh\n",
    "output_hidden=sig(input_hidden)\n",
    "\n",
    "input_for_output_layer=np.dot(output_hidden,wo)+bo\n",
    "output=sig(input_for_output_layer)\n",
    "print(output)"
   ]
  },
  {
   "cell_type": "code",
   "execution_count": null,
   "id": "b1f70afe",
   "metadata": {},
   "outputs": [],
   "source": []
  }
 ],
 "metadata": {
  "kernelspec": {
   "display_name": "Python 3 (ipykernel)",
   "language": "python",
   "name": "python3"
  },
  "language_info": {
   "codemirror_mode": {
    "name": "ipython",
    "version": 3
   },
   "file_extension": ".py",
   "mimetype": "text/x-python",
   "name": "python",
   "nbconvert_exporter": "python",
   "pygments_lexer": "ipython3",
   "version": "3.10.9"
  }
 },
 "nbformat": 4,
 "nbformat_minor": 5
}
