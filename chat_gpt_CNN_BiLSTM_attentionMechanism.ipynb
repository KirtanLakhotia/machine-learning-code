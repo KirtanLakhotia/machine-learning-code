{
 "cells": [
  {
   "cell_type": "code",
   "execution_count": 23,
   "metadata": {},
   "outputs": [
    {
     "name": "stdout",
     "output_type": "stream",
     "text": [
      "Epoch 1/5\n",
      "782/782 [==============================] - 45s 54ms/step - loss: 0.6934 - accuracy: 0.4988 - val_loss: 0.6932 - val_accuracy: 0.5000\n",
      "Epoch 2/5\n",
      "782/782 [==============================] - 41s 53ms/step - loss: 0.6159 - accuracy: 0.6060 - val_loss: 0.4002 - val_accuracy: 0.8270\n",
      "Epoch 3/5\n",
      "782/782 [==============================] - 41s 53ms/step - loss: 0.3048 - accuracy: 0.8761 - val_loss: 0.3027 - val_accuracy: 0.8731\n",
      "Epoch 4/5\n",
      "782/782 [==============================] - 41s 53ms/step - loss: 0.1996 - accuracy: 0.9256 - val_loss: 0.3011 - val_accuracy: 0.8780\n",
      "Epoch 5/5\n",
      "782/782 [==============================] - 42s 53ms/step - loss: 0.1295 - accuracy: 0.9577 - val_loss: 0.3428 - val_accuracy: 0.8706\n",
      "782/782 [==============================] - 10s 12ms/step - loss: 0.3428 - accuracy: 0.8706\n",
      "Test Loss: 0.34278905391693115\n",
      "Test Accuracy: 0.8705599904060364\n",
      "782/782 [==============================] - 10s 12ms/step\n",
      "Predicted    0.0    1.0\n",
      "Actual                 \n",
      "0          11417   1083\n",
      "1           2153  10347\n"
     ]
    }
   ],
   "source": [
    "import numpy as np\n",
    "import pandas as pd\n",
    "from tensorflow import keras\n",
    "from tensorflow.keras.preprocessing.sequence import pad_sequences\n",
    "from tensorflow.keras.models import Model\n",
    "from tensorflow.keras.layers import Input, Embedding, Conv1D, MaxPooling1D, Bidirectional, LSTM, Dense, Attention\n",
    "\n",
    "# Load the IMDb movie review dataset\n",
    "\n",
    "\n",
    "imdb = keras.datasets.imdb\n",
    "(train_data, train_labels), (test_data, test_labels) = imdb.load_data(num_words=10000)\n",
    "\n",
    "# Preprocess the data\n",
    "max_sequence_length = 200  # Maximum sequence length for padding\n",
    "train_data = pad_sequences(train_data, maxlen=max_sequence_length)\n",
    "test_data = pad_sequences(test_data, maxlen=max_sequence_length)\n",
    "\n",
    "# Define the model architecture\n",
    "input_layer = Input(shape=(max_sequence_length,))\n",
    "embedding_layer = Embedding(10000, 128)(input_layer)\n",
    "conv_layer = Conv1D(64, 5, activation='relu')(embedding_layer)\n",
    "pooling_layer = MaxPooling1D(pool_size=4)(conv_layer)\n",
    "lstm_layer = Bidirectional(LSTM(64, return_sequences=False))(pooling_layer)\n",
    "#lstm_layer = Bidirectional(LSTM(64, return_sequences=False), name=\"encoder_lstm\")(pooling_layer)\n",
    "#attention_layer = Attention()(lstm_layer)\n",
    "attention_layer = Attention()([lstm_layer, lstm_layer])\n",
    "output_layer = Dense(1, activation='sigmoid')(attention_layer)\n",
    "\n",
    "model = Model(inputs=input_layer, outputs=output_layer)\n",
    "\n",
    "# Compile and train the model\n",
    "model.compile(loss='binary_crossentropy', optimizer='adam', metrics=['accuracy'])\n",
    "model.fit(train_data, train_labels, batch_size=32, epochs=5, validation_data=(test_data, test_labels))\n",
    "\n",
    "# Evaluate the model\n",
    "loss, accuracy = model.evaluate(test_data, test_labels)\n",
    "print('Test Loss:', loss)\n",
    "print('Test Accuracy:', accuracy)\n",
    "\n",
    "# Predict on test data\n",
    "predictions = model.predict(test_data)\n",
    "\n",
    "# Convert probabilities to class labels\n",
    "predicted_labels = np.round(predictions).flatten()\n",
    "\n",
    "# Create confusion matrix\n",
    "confusion_matrix = pd.crosstab(test_labels, predicted_labels, rownames=['Actual'], colnames=['Predicted'])\n",
    "print(confusion_matrix)\n"
   ]
  },
  {
   "cell_type": "code",
   "execution_count": 13,
   "metadata": {},
   "outputs": [
    {
     "name": "stdout",
     "output_type": "stream",
     "text": [
      "   2401  Borderlands  Positive  \\\n",
      "0  2401  Borderlands  Positive   \n",
      "1  2401  Borderlands  Positive   \n",
      "2  2401  Borderlands  Positive   \n",
      "3  2401  Borderlands  Positive   \n",
      "4  2401  Borderlands  Positive   \n",
      "\n",
      "  im getting on borderlands and i will murder you all ,  \n",
      "0  I am coming to the borders and I will kill you...     \n",
      "1  im getting on borderlands and i will kill you ...     \n",
      "2  im coming on borderlands and i will murder you...     \n",
      "3  im getting on borderlands 2 and i will murder ...     \n",
      "4  im getting into borderlands and i can murder y...     \n",
      "   3364   Facebook Irrelevant  \\\n",
      "0   352     Amazon    Neutral   \n",
      "1  8312  Microsoft   Negative   \n",
      "2  4371      CS-GO   Negative   \n",
      "3  4433     Google    Neutral   \n",
      "4  6273       FIFA   Negative   \n",
      "\n",
      "  I mentioned on Facebook that I was struggling for motivation to go for a run the other day, which has been translated by Tom’s great auntie as ‘Hayley can’t get out of bed’ and told to his grandma, who now thinks I’m a lazy, terrible person 🤣  \n",
      "0  BBC News - Amazon boss Jeff Bezos rejects clai...                                                                                                                                                                                                  \n",
      "1  @Microsoft Why do I pay for WORD when it funct...                                                                                                                                                                                                  \n",
      "2  CSGO matchmaking is so full of closet hacking,...                                                                                                                                                                                                  \n",
      "3  Now the President is slapping Americans in the...                                                                                                                                                                                                  \n",
      "4  Hi @EAHelp I’ve had Madeleine McCann in my cel...                                                                                                                                                                                                  \n"
     ]
    }
   ],
   "source": [
    "imd_train= pd.read_csv(\"twitter_training.csv\")\n",
    "print(imd_train.head())\n",
    "imd_test=pd.read_csv(\"twitter_validation.csv\")\n",
    "print(imd_test.head())"
   ]
  }
 ],
 "metadata": {
  "kernelspec": {
   "display_name": "base",
   "language": "python",
   "name": "python3"
  },
  "language_info": {
   "codemirror_mode": {
    "name": "ipython",
    "version": 3
   },
   "file_extension": ".py",
   "mimetype": "text/x-python",
   "name": "python",
   "nbconvert_exporter": "python",
   "pygments_lexer": "ipython3",
   "version": "3.10.9"
  },
  "orig_nbformat": 4
 },
 "nbformat": 4,
 "nbformat_minor": 2
}
