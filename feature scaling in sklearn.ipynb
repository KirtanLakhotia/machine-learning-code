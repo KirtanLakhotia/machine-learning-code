{
 "cells": [
  {
   "cell_type": "code",
   "execution_count": 1,
   "metadata": {},
   "outputs": [],
   "source": [
    "import numpy as np \n"
   ]
  },
  {
   "cell_type": "code",
   "execution_count": 2,
   "metadata": {},
   "outputs": [],
   "source": [
    "x= np.array([[1,4,5],\n",
    "             [2,3,6],\n",
    "             [3,5,7]])"
   ]
  },
  {
   "cell_type": "code",
   "execution_count": 3,
   "metadata": {},
   "outputs": [
    {
     "name": "stdout",
     "output_type": "stream",
     "text": [
      "[0. 0. 0.]\n"
     ]
    },
    {
     "data": {
      "text/plain": [
       "array([1., 1., 1.])"
      ]
     },
     "execution_count": 3,
     "metadata": {},
     "output_type": "execute_result"
    }
   ],
   "source": [
    "# mean and variance \n",
    "from sklearn import preprocessing \n",
    "x_scale=preprocessing.scale(x)\n",
    "print(x_scale.mean(axis=0))\n",
    "x_scale.std(axis=0)"
   ]
  },
  {
   "cell_type": "code",
   "execution_count": 4,
   "metadata": {},
   "outputs": [],
   "source": [
    "y=np.array([[1,2,4],\n",
    "           [2,3,4],\n",
    "           [3,4,5]])"
   ]
  },
  {
   "cell_type": "code",
   "execution_count": 5,
   "metadata": {},
   "outputs": [
    {
     "name": "stdout",
     "output_type": "stream",
     "text": [
      "[[-1.22474487 -2.44948974 -2.44948974]\n",
      " [ 0.         -1.22474487 -2.44948974]\n",
      " [ 1.22474487  0.         -1.22474487]]\n",
      "---------------------------------------\n",
      "[[-1.22474487  0.         -1.22474487]\n",
      " [ 0.         -1.22474487  0.        ]\n",
      " [ 1.22474487  1.22474487  1.22474487]]\n"
     ]
    }
   ],
   "source": [
    "scale=preprocessing.StandardScaler()\n",
    "scale.fit(x) \n",
    "print(scale.transform(y))\n",
    "print(\"---------------------------------------\")\n",
    "print(scale.transform(x))"
   ]
  }
 ],
 "metadata": {
  "kernelspec": {
   "display_name": "Python 3",
   "language": "python",
   "name": "python3"
  },
  "language_info": {
   "codemirror_mode": {
    "name": "ipython",
    "version": 3
   },
   "file_extension": ".py",
   "mimetype": "text/x-python",
   "name": "python",
   "nbconvert_exporter": "python",
   "pygments_lexer": "ipython3",
   "version": "3.7.4"
  }
 },
 "nbformat": 4,
 "nbformat_minor": 2
}
