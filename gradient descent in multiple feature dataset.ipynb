{
 "cells": [
  {
   "cell_type": "code",
   "execution_count": 3,
   "metadata": {},
   "outputs": [],
   "source": [
    "import numpy as np\n",
    "import pandas as pd\n",
    "from sklearn import datasets\n",
    "from sklearn.model_selection import train_test_split"
   ]
  },
  {
   "cell_type": "code",
   "execution_count": 4,
   "metadata": {},
   "outputs": [],
   "source": [
    "def loss(x,y,m):\n",
    "    total_cost=0\n",
    "    M=len(x)\n",
    "    for i in range(M):\n",
    "        for j in range(14):\n",
    "            x1=x[i][j]\n",
    "            y1=y[i]\n",
    "            total_cost+=(1/(M*10))* ((y1-m[j]*x1)**2)\n",
    "    return total_cost"
   ]
  },
  {
   "cell_type": "code",
   "execution_count": 53,
   "metadata": {},
   "outputs": [],
   "source": []
  },
  {
   "cell_type": "code",
   "execution_count": 5,
   "metadata": {},
   "outputs": [],
   "source": [
    "def step(x,y,learning_rate,m):\n",
    "    m_slope=np.zeros(14) \n",
    "    for i in range(len(x)):\n",
    "        for j in range(14):\n",
    "            m_slope[j]+= (2/len(x))*(y[i]-(m[j]*x[i][j]))*(-x[i][j])\n",
    "   \n",
    "    m_new=m-(learning_rate*m_slope)\n",
    "    return m_new"
   ]
  },
  {
   "cell_type": "code",
   "execution_count": 6,
   "metadata": {},
   "outputs": [],
   "source": [
    "def gd (x,y,learning_rate,iteration):\n",
    "    m=np.zeros(14,int)\n",
    "  \n",
    "    for i in range(iteration):\n",
    "        m=step(x,y,learning_rate,m)\n",
    "        print(i,\"loss\",loss(x,y,m))\n",
    "    return m"
   ]
  },
  {
   "cell_type": "code",
   "execution_count": 7,
   "metadata": {},
   "outputs": [
    {
     "name": "stdout",
     "output_type": "stream",
     "text": [
      "(506,)\n"
     ]
    },
    {
     "data": {
      "text/plain": [
       "(379, 14)"
      ]
     },
     "execution_count": 7,
     "metadata": {},
     "output_type": "execute_result"
    }
   ],
   "source": [
    "boston =datasets.load_boston()\n",
    "x=boston.data\n",
    "y=boston.target\n",
    "dfx=pd.DataFrame(x)\n",
    "dfy=pd.DataFrame(y)\n",
    "dfx.columns=boston.feature_names\n",
    "dfx[\"c\"] = 1\n",
    "x=np.array(dfx)\n",
    "\n",
    "x_train,x_test,y_train,y_test= train_test_split(x,y)\n",
    "\n",
    "print(y.shape)\n",
    "x_train.shape"
   ]
  },
  {
   "cell_type": "code",
   "execution_count": 18,
   "metadata": {},
   "outputs": [],
   "source": [
    "def run(x,y):\n",
    "    \n",
    "    learning_rate=0.000005001\n",
    "    iteration =29\n",
    "    m=gd(x,y,learning_rate,iteration)\n",
    "    return m\n",
    "\n"
   ]
  },
  {
   "cell_type": "code",
   "execution_count": 19,
   "metadata": {},
   "outputs": [
    {
     "name": "stdout",
     "output_type": "stream",
     "text": [
      "0 loss 781.2610561722698\n",
      "1 loss 771.5741871689102\n",
      "2 loss 767.345220043734\n",
      "3 loss 764.1439009013031\n",
      "4 loss 761.3635713473922\n",
      "5 loss 758.8966876568779\n",
      "6 loss 756.7035262188747\n",
      "7 loss 754.7559443168213\n",
      "8 loss 753.0297915508529\n",
      "9 loss 751.5036594390623\n",
      "10 loss 750.1584812101556\n",
      "11 loss 748.9772673610115\n",
      "12 loss 747.9448816324141\n",
      "13 loss 747.0478425952035\n",
      "14 loss 746.2741467417328\n",
      "15 loss 745.6131105991709\n",
      "16 loss 745.0552298008274\n",
      "17 loss 744.5920532929802\n",
      "18 loss 744.2160710529496\n",
      "19 loss 743.920613868602\n",
      "20 loss 743.6997638853097\n",
      "21 loss 743.548274765091\n",
      "22 loss 743.4615004267065\n",
      "23 loss 743.4353314462036\n",
      "24 loss 743.4661382960227\n",
      "25 loss 743.5507206892246\n",
      "26 loss 743.6862623738061\n",
      "27 loss 743.8702907927058\n",
      "28 loss 744.100641087485\n",
      "[0.01605608 0.08591405 0.06218029 0.00060973 0.0035064  0.04221456\n",
      " 0.21378043 0.02579157 0.05475364 0.09879132 0.11255898 0.06144563\n",
      " 0.06659574 0.00654812]\n"
     ]
    }
   ],
   "source": [
    "print(run(x_train,y_train))"
   ]
  }
 ],
 "metadata": {
  "kernelspec": {
   "display_name": "Python 3",
   "language": "python",
   "name": "python3"
  },
  "language_info": {
   "codemirror_mode": {
    "name": "ipython",
    "version": 3
   },
   "file_extension": ".py",
   "mimetype": "text/x-python",
   "name": "python",
   "nbconvert_exporter": "python",
   "pygments_lexer": "ipython3",
   "version": "3.7.4"
  }
 },
 "nbformat": 4,
 "nbformat_minor": 2
}
