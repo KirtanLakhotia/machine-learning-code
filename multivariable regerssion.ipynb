{
 "cells": [
  {
   "cell_type": "code",
   "execution_count": 2,
   "metadata": {},
   "outputs": [],
   "source": [
    "# now we will add mant variables in ouy y=mx+c equation \n",
    "from sklearn import datasets\n",
    "import pandas as pd\n",
    "import numpy as np \n",
    "import matplotlib.pyplot as plt\n",
    "from sklearn.model_selection import train_test_split\n",
    "from sklearn.linear_model import LinearRegression"
   ]
  },
  {
   "cell_type": "code",
   "execution_count": 16,
   "metadata": {},
   "outputs": [],
   "source": [
    "boston=datasets.load_boston()\n",
    "x=boston.data\n",
    "y=boston.target\n",
    "df=pd.DataFrame(x)\n",
    "df.columns=boston.feature_names\n",
    "df[\"kirtan1\"]=df.AGE**2\n",
    "df[\"kirtan2\"]=df.CRIM**2\n",
    "df[\"kirtan3\"]=df.ZN**2\n",
    "df[\"kirtan4\"]=df.INDUS**2\n",
    "df[\"kirtan5\"]=df.CHAS**2\n",
    "df[\"kirtan6\"]=df.NOX**2\n",
    "df[\"kirtan7\"]=df.RM**2\n",
    "df[\"kirtan8\"]=df.DIS**2\n",
    "df[\"kirtan9\"]=df.RAD**2\n",
    "x2=df.values"
   ]
  },
  {
   "cell_type": "code",
   "execution_count": 72,
   "metadata": {},
   "outputs": [
    {
     "name": "stdout",
     "output_type": "stream",
     "text": [
      "0.7697699488741149\n",
      "0.8382865534620842\n",
      "0.6354638433202102\n",
      "0.7237886912012192\n"
     ]
    }
   ],
   "source": [
    "x_train,x_test,y_train,y_test = train_test_split(x,y,random_state=0 )\n",
    "x2_train,x2_test,y2_train,y2_test = train_test_split(x2,y,random_state=0 )\n",
    "alg1=LinearRegression()\n",
    "alg2=LinearRegression()\n",
    "alg1.fit(x_train,y_train)\n",
    "alg2.fit(x2_train,y2_train)\n",
    "y_pred=alg1.predict(x_test)\n",
    "y2_pred=alg2.predict(x2_test)\n",
    "print(alg1.score(x_train,y_train))\n",
    "print(alg2.score(x2_train,y2_train))\n",
    "print(alg1.score(x_test,y_test))\n",
    "print(alg2.score(x2_test,y2_test))"
   ]
  }
 ],
 "metadata": {
  "kernelspec": {
   "display_name": "Python 3",
   "language": "python",
   "name": "python3"
  },
  "language_info": {
   "codemirror_mode": {
    "name": "ipython",
    "version": 3
   },
   "file_extension": ".py",
   "mimetype": "text/x-python",
   "name": "python",
   "nbconvert_exporter": "python",
   "pygments_lexer": "ipython3",
   "version": "3.7.4"
  }
 },
 "nbformat": 4,
 "nbformat_minor": 2
}
