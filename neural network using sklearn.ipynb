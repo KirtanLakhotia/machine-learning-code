{
 "cells": [
  {
   "cell_type": "code",
   "execution_count": 1,
   "id": "d84d75c5",
   "metadata": {},
   "outputs": [],
   "source": [
    "from sklearn import datasets\n",
    "from sklearn.model_selection import train_test_split"
   ]
  },
  {
   "cell_type": "code",
   "execution_count": 2,
   "id": "1b18048b",
   "metadata": {},
   "outputs": [],
   "source": [
    "iris=datasets.load_iris()\n",
    "x=iris.data\n",
    "y=iris.target"
   ]
  },
  {
   "cell_type": "code",
   "execution_count": 9,
   "id": "bee511a3",
   "metadata": {},
   "outputs": [],
   "source": [
    "x_train,x_test,y_train,y_test=train_test_split(x,y)"
   ]
  },
  {
   "cell_type": "code",
   "execution_count": 10,
   "id": "4037ac52",
   "metadata": {},
   "outputs": [
    {
     "name": "stdout",
     "output_type": "stream",
     "text": [
      "0.9736842105263158\n"
     ]
    }
   ],
   "source": [
    "from sklearn.neural_network import MLPClassifier\n",
    "alg1=MLPClassifier( hidden_layer_sizes=(100,),max_iter=3000)\n",
    "alg1.fit(x_train,y_train)\n",
    "print(alg1.score(x_test,y_test))"
   ]
  },
  {
   "cell_type": "code",
   "execution_count": 5,
   "id": "0cfc6cab",
   "metadata": {},
   "outputs": [
    {
     "data": {
      "text/plain": [
       "2"
      ]
     },
     "execution_count": 5,
     "metadata": {},
     "output_type": "execute_result"
    }
   ],
   "source": [
    "len(alg1.coefs_)"
   ]
  },
  {
   "cell_type": "code",
   "execution_count": 6,
   "id": "e640199e",
   "metadata": {},
   "outputs": [
    {
     "data": {
      "text/plain": [
       "((4, 100), (100, 3))"
      ]
     },
     "execution_count": 6,
     "metadata": {},
     "output_type": "execute_result"
    }
   ],
   "source": [
    "# weights between layers\n",
    "alg1.coefs_[0].shape,alg1.coefs_[1].shape"
   ]
  },
  {
   "cell_type": "code",
   "execution_count": 7,
   "id": "3ba906cd",
   "metadata": {},
   "outputs": [
    {
     "data": {
      "text/plain": [
       "((100,), (3,))"
      ]
     },
     "execution_count": 7,
     "metadata": {},
     "output_type": "execute_result"
    }
   ],
   "source": [
    "#bias weights\n",
    "alg1.intercepts_[0].shape,alg1.intercepts_[1].shape"
   ]
  }
 ],
 "metadata": {
  "kernelspec": {
   "display_name": "Python 3 (ipykernel)",
   "language": "python",
   "name": "python3"
  },
  "language_info": {
   "codemirror_mode": {
    "name": "ipython",
    "version": 3
   },
   "file_extension": ".py",
   "mimetype": "text/x-python",
   "name": "python",
   "nbconvert_exporter": "python",
   "pygments_lexer": "ipython3",
   "version": "3.10.9"
  }
 },
 "nbformat": 4,
 "nbformat_minor": 5
}
