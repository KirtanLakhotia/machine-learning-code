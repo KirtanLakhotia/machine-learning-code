{
 "cells": [
  {
   "cell_type": "code",
   "execution_count": 1,
   "id": "6eced83c",
   "metadata": {},
   "outputs": [],
   "source": [
    "import numpy as np"
   ]
  },
  {
   "cell_type": "code",
   "execution_count": 2,
   "id": "27fc8cb4",
   "metadata": {},
   "outputs": [
    {
     "data": {
      "text/plain": [
       "((4, 2), (4, 1))"
      ]
     },
     "execution_count": 2,
     "metadata": {},
     "output_type": "execute_result"
    }
   ],
   "source": [
    "x=np.array([[0,0],[0,1],[1,0],[1,1]])\n",
    "y=np.array([[0,0,0,1]]).T\n",
    "\n",
    "x.shape,y.shape"
   ]
  },
  {
   "cell_type": "code",
   "execution_count": 3,
   "id": "42050e54",
   "metadata": {},
   "outputs": [],
   "source": [
    "def sig(z):\n",
    "    return 1/(1+np.exp(-z))"
   ]
  },
  {
   "cell_type": "code",
   "execution_count": 4,
   "id": "bcd20b22",
   "metadata": {},
   "outputs": [],
   "source": [
    "def derivative_sig(z):\n",
    "    return sig(z)*(1-sig(z))"
   ]
  },
  {
   "cell_type": "code",
   "execution_count": 5,
   "id": "70968565",
   "metadata": {},
   "outputs": [
    {
     "data": {
      "text/plain": [
       "(array([[ 0.60431538],\n",
       "        [-0.80465978]]),\n",
       " array([-0.20354412]))"
      ]
     },
     "execution_count": 5,
     "metadata": {},
     "output_type": "execute_result"
    }
   ],
   "source": [
    "#weights=np.array([[70],[70]])\n",
    "#bias=-100\n",
    "weights=2*np.random.random((2,1))-1\n",
    "bias=2*np.random.random(1)-1\n",
    "lr=0.1\n",
    "weights,bias\n"
   ]
  },
  {
   "cell_type": "code",
   "execution_count": null,
   "id": "0fa7a29a",
   "metadata": {},
   "outputs": [],
   "source": []
  },
  {
   "cell_type": "code",
   "execution_count": 6,
   "id": "6bf075e1",
   "metadata": {},
   "outputs": [
    {
     "data": {
      "text/plain": [
       "(array([[2.46736680e-04],\n",
       "        [5.56830987e-02],\n",
       "        [5.56831000e-02],\n",
       "        [9.33725162e-01]]),\n",
       " array([[5.47615697],\n",
       "        [5.47615695]]),\n",
       " array([-8.30694209]))"
      ]
     },
     "execution_count": 6,
     "metadata": {},
     "output_type": "execute_result"
    }
   ],
   "source": [
    "for itr in range(10000):\n",
    "    output=sig(np.dot(x,weights)+bias)\n",
    "    first_term=output-y\n",
    "    input_for_last_layer=np.dot(x,weights)+bias\n",
    "    second_term=derivative_sig(input_for_last_layer)\n",
    "    first_two=first_term*second_term\n",
    "    #gradient\n",
    "    change=np.dot(x.T,first_two)\n",
    "    weights=weights-lr*change\n",
    "\n",
    "    bias_change=first_two.sum()\n",
    "    bias=bias-lr*bias_change\n",
    "output=sig(np.dot(x,weights)+bias)\n",
    "output,weights,bias"
   ]
  }
 ],
 "metadata": {
  "kernelspec": {
   "display_name": "Python 3 (ipykernel)",
   "language": "python",
   "name": "python3"
  },
  "language_info": {
   "codemirror_mode": {
    "name": "ipython",
    "version": 3
   },
   "file_extension": ".py",
   "mimetype": "text/x-python",
   "name": "python",
   "nbconvert_exporter": "python",
   "pygments_lexer": "ipython3",
   "version": "3.10.9"
  }
 },
 "nbformat": 4,
 "nbformat_minor": 5
}
