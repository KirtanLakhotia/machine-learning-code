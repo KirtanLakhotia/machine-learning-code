{
 "cells": [
  {
   "cell_type": "code",
   "execution_count": 1,
   "id": "e597c45b",
   "metadata": {},
   "outputs": [],
   "source": [
    "import tensorflow.compat.v1 as tf\n",
    "sess = tf.Session()"
   ]
  },
  {
   "cell_type": "code",
   "execution_count": 2,
   "id": "4ba9952f",
   "metadata": {},
   "outputs": [
    {
     "data": {
      "text/plain": [
       "array([[18]])"
      ]
     },
     "execution_count": 2,
     "metadata": {},
     "output_type": "execute_result"
    }
   ],
   "source": [
    "# constant\n",
    "tf.compat.v1.disable_eager_execution()\n",
    "a=tf.constant(2)\n",
    "b=tf.constant(3) \n",
    "sess=tf.Session()\n",
    "a1=tf.constant([[3,3]])\n",
    "a2=tf.constant([[3],[3]])\n",
    "sess.run(tf.matmul(a1,a2))\n"
   ]
  },
  {
   "cell_type": "code",
   "execution_count": 3,
   "id": "e857231a",
   "metadata": {},
   "outputs": [
    {
     "data": {
      "text/plain": [
       "<tf.Tensor 'add:0' shape=() dtype=int32>"
      ]
     },
     "execution_count": 3,
     "metadata": {},
     "output_type": "execute_result"
    }
   ],
   "source": [
    "#session\n",
    "tf.compat.v1.disable_eager_execution()\n",
    "a=tf.constant(2)\n",
    "b=tf.constant(3) \n",
    "c=a+b\n",
    "c\n",
    "\n",
    "    "
   ]
  },
  {
   "cell_type": "code",
   "execution_count": 27,
   "id": "fa81d6fb",
   "metadata": {},
   "outputs": [
    {
     "name": "stdout",
     "output_type": "stream",
     "text": [
      "value of var1 + var2=103\n",
      "value of new assigned var1=1234\n"
     ]
    }
   ],
   "source": [
    "#variables\n",
    "var1=tf.Variable(100)\n",
    "var2=tf.Variable(3)\n",
    "sess=tf.Session()\n",
    "sess.run(tf.global_variables_initializer())\n",
    "c=tf.add(var1,var2)\n",
    "print(\"value of var1 + var2\",end=\"=\")\n",
    "print(sess.run(c))\n",
    "var1.assign(1234)\n",
    "sess.run(var1.assign(1234))\n",
    "print(\"value of new assigned var1\",end=\"=\")\n",
    "print(sess.run(var1))"
   ]
  },
  {
   "cell_type": "code",
   "execution_count": null,
   "id": "179c32d3",
   "metadata": {},
   "outputs": [],
   "source": []
  }
 ],
 "metadata": {
  "kernelspec": {
   "display_name": "Python 3 (ipykernel)",
   "language": "python",
   "name": "python3"
  },
  "language_info": {
   "codemirror_mode": {
    "name": "ipython",
    "version": 3
   },
   "file_extension": ".py",
   "mimetype": "text/x-python",
   "name": "python",
   "nbconvert_exporter": "python",
   "pygments_lexer": "ipython3",
   "version": "3.10.9"
  }
 },
 "nbformat": 4,
 "nbformat_minor": 5
}
